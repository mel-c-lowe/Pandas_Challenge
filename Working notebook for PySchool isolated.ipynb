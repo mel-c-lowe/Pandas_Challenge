{
 "cells": [
  {
   "cell_type": "code",
   "execution_count": 49,
   "metadata": {},
   "outputs": [],
   "source": [
    "import pandas as pd"
   ]
  },
  {
   "cell_type": "code",
   "execution_count": 50,
   "metadata": {},
   "outputs": [],
   "source": [
    "# Read in student and school data\n",
    "student_data_original = \"Resources/students_complete.csv\"\n",
    "school_data_original = \"Resources/schools_complete.csv\"\n",
    "\n",
    "# Build csvreader for each file\n",
    "student_data_df = pd.read_csv(student_data_original)\n",
    "# student_data_df.head()\n",
    "\n",
    "# Second csvreader\n",
    "school_data_df = pd.read_csv(school_data_original)\n",
    "# school_data_df\n",
    "\n",
    "# Alphabatize the school dataframe\n",
    "sorted_school_data = school_data_df.sort_values(\"school_name\")\n",
    "# sorted_school_data.head()\n",
    "\n",
    "# Merge data sets based on school name\n",
    "combined_data = pd.merge(student_data_df, sorted_school_data, how=\"left\", on=[\"school_name\", \"school_name\"])\n",
    "# combined_data\n",
    "\n",
    "# Sort data to be alphabetical by school name\n",
    "sorted_data = combined_data.sort_values(\"school_name\")\n",
    "# sorted_data\n",
    "\n",
    "# Make dataframe with school name, type, budget, and size to start School Summary\n",
    "school_summary_df = sorted_school_data[[\"school_name\", \"type\", \"size\", \"budget\"]]\n",
    "# school_summary_df\n",
    "\n",
    "# Add per student budget\n",
    "school_summary_df[\"Per Student Budget\"] = school_summary_df[\"budget\"] / school_summary_df[\"size\"]\n",
    "# school_summary_df\n",
    "\n",
    "# Try with groupby\n",
    "sorted_grouped_data = sorted_data.groupby(\"school_name\")\n",
    "# sorted_grouped_data.count()\n",
    "\n",
    "# Create list of student counts\n",
    "student_count_list = sorted_grouped_data[\"Student ID\"].count()\n",
    "# student_count_list\n",
    "\n",
    "# Calculate average reading and math scores\n",
    "\n",
    "# Start with list of scores\n",
    "reading_score_list = sorted_grouped_data[\"reading_score\"].sum()\n",
    "# reading_score_list.unique()\n",
    "\n",
    "# Divide total scores in reading_score_list by student_count\n",
    "average_reading_score_by_school = reading_score_list / student_count_list\n",
    "# average_reading_score_by_school\n",
    "\n",
    "# Calculate average math score\n",
    "# Start with list of scores\n",
    "math_score_list = sorted_grouped_data[\"math_score\"].sum()\n",
    "# math_score_list.unique()\n",
    "\n",
    "# Divide total math scores by studen_count\n",
    "average_math_score_by_school = math_score_list / student_count_list\n",
    "# average_math_score_by_school\n"
   ]
  },
  {
   "cell_type": "code",
   "execution_count": null,
   "metadata": {},
   "outputs": [],
   "source": []
  }
 ],
 "metadata": {
  "kernelspec": {
   "display_name": "Python 3",
   "language": "python",
   "name": "python3"
  },
  "language_info": {
   "codemirror_mode": {
    "name": "ipython",
    "version": 3
   },
   "file_extension": ".py",
   "mimetype": "text/x-python",
   "name": "python",
   "nbconvert_exporter": "python",
   "pygments_lexer": "ipython3",
   "version": "3.8.3"
  }
 },
 "nbformat": 4,
 "nbformat_minor": 4
}
